{
  "cells": [
    {
      "cell_type": "code",
      "execution_count": null,
      "metadata": {
        "scrolled": true,
        "id": "DFtEl1_-FtQI"
      },
      "outputs": [],
      "source": [
        "# Heavily inspired by / adapted from the MIT RACECAR Course\n",
        "# FIRST import all the necessary libraries and modules!\n",
        "import cv2               # import OpenCV\n",
        "import numpy as np       # import NumPy\n",
        "import sys\n",
        "from google.colab import files\n",
        "from google.colab.patches import cv2_imshow # colab requires its own version of imshow"
      ]
    },
    {
      "cell_type": "markdown",
      "metadata": {
        "id": "_5_VwdfRFtQJ"
      },
      "source": [
        "# Contours\n",
        "\n",
        "<p style='font-size:1.75rem;line-height:1.5'>\n",
        "In this lab, we will learn about contours and how to use contours to help us identify objects. Furthermore, we will be learning about the following functions: \n",
        "    <ul style='font-size:1.75rem;line-height:1.5'>\n",
        "        <li> <code> cv2.threshold </code>  </li>\n",
        "        <li> <code> cv2.findContours </code>  </li>\n",
        "        <li> <code> cv2.drawContours </code>  </li>\n",
        "        <li> <code> cv2.contourArea </code>  </li>\n",
        "        <li> <code> cv2.boundingRect </code>  </li>\n",
        "        <li> <code> cv2.minAreaRect </code>  </li>\n",
        "        <li> <code> cv2.minEnclosingCircle</code>  </li>\n",
        "    </ul>\n",
        "    </p>\n",
        "    \n",
        "<p style='font-size:1.75rem;line-height:1.5'>  \n",
        "    We will learn how to create a function to help us detect drawings on a piece of paper! \n",
        "    </p>\n",
        "\n",
        "### What is a contour? \n",
        "\n",
        "<p style='font-size:1.75rem;line-height:1.5'>\n",
        "    A contour is a curve joining all continuous points along a boundary.\n",
        "    </p>\n",
        "\n",
        "\n",
        "### Why contours?\n",
        "\n",
        "<p style='font-size:1.75rem;line-height:1.5'>\n",
        "    Contours can help us analyze an object's shape and detect objects, so they will be helpful in the future when we want detect specific objects or obstacles in the car's field of view (ie. cones).\n",
        "    </p>\n",
        "\n",
        "<img src=\"http://4.bp.blogspot.com/-ZNhledLRAyo/ULYPHPSd8rI/AAAAAAAAANk/WwRi4jhW7cU/s1600/result.png\" alt=\"object contour detection\" style=\"width: 300px;\"/>"
      ]
    },
    {
      "cell_type": "markdown",
      "metadata": {
        "id": "cHLDFWRdFtQK"
      },
      "source": [
        "---\n",
        "\n",
        "# Find and Draw Contours\n",
        "\n",
        "<p style='font-size:1.75rem;line-height:1.5'>\n",
        "    In the following section, we will learn how to find and draw contours. \n",
        "    <br>To find the contours of an image, a few steps need to be taken: \n",
        "    </p>\n",
        "\n",
        "<p style='font-size:1.75rem;line-height:1.5'>\n",
        "    <b style=\"color:blue\">STEP #1:</b> Read the image.\n",
        "    </p>"
      ]
    },
    {
      "cell_type": "code",
      "execution_count": null,
      "metadata": {
        "scrolled": true,
        "id": "XsJtY5rjFtQK"
      },
      "outputs": [],
      "source": [
        "# TASK #1: Read 'star.png' via cv2.imread. Save as 'img'.\n",
        "uploaded = files.upload()\n",
        "img = cv2.imread(\"star.png\", cv2.IMREAD_COLOR)"
      ]
    },
    {
      "cell_type": "code",
      "source": [
        "# Save the original image to display later.\n",
        "img_copy = img.copy()\n",
        "\n",
        "# Show image\n",
        "cv2_imshow(img)"
      ],
      "metadata": {
        "id": "S5rgf3DuHYpK"
      },
      "execution_count": null,
      "outputs": []
    },
    {
      "cell_type": "markdown",
      "metadata": {
        "id": "D2ZAVYC2FtQK"
      },
      "source": [
        "<p style='font-size:1.75rem;line-height:1.5'>\n",
        "    <b style=\"color:blue\">STEP #2:</b> Convert the image into grayscale.\n",
        "    </p>"
      ]
    },
    {
      "cell_type": "code",
      "execution_count": null,
      "metadata": {
        "scrolled": true,
        "id": "IANfc8gjFtQK"
      },
      "outputs": [],
      "source": [
        "# TASK #2: Convert the BGR image to grayscale via cv2.COLOR_BGR2GRAY. \n",
        "#          Save as 'img_gray' \n",
        "img_gray = cv2.cvtColor(img, cv2.COLOR_BGR2GRAY)\n",
        "\n",
        "# Show image in popup window\n",
        "cv2_imshow(img_gray)"
      ]
    },
    {
      "cell_type": "markdown",
      "metadata": {
        "id": "Qxu9S0GzFtQL"
      },
      "source": [
        "<p style='font-size:1.75rem;line-height:1.5'>\n",
        "    <b style=\"color:blue\">STEP #3:</b> Convert the grayscale image into a binary image with <code>cv2.threshold</code>. \n",
        "    </p>\n",
        "\n",
        "<p style='font-size:1.75rem;line-height:1.5'>\n",
        "    <code>cv2.threshold</code> looks at each pixel to see if it is greater than or less than the threshold value, and then reassigns the input minVal/maxVal to the pixel.\n",
        "    </p>\n",
        "\n",
        "<p style='font-size:1.75rem;line-height:1.5'>\n",
        "    It has the following format: \n",
        "    </p>\n",
        "    \n",
        "```python\n",
        "thresh = cv2.threshold(<grayscale_image>, <threshold_value>, <maxVal>, <minVal>)[1]\n",
        "```"
      ]
    },
    {
      "cell_type": "code",
      "execution_count": null,
      "metadata": {
        "scrolled": true,
        "id": "XUBqgYtIFtQL"
      },
      "outputs": [],
      "source": [
        "# TASK #3: Threshold the image. Save as 'thresh'.\n",
        "#          Use threshold_value=240, maxVal=255, and minVal=0\n",
        "thresh = cv2.threshold(img_gray, 240, 255, 0)[1]\n",
        "\n",
        "# Show image in popup window\n",
        "cv2_imshow(thresh)"
      ]
    },
    {
      "cell_type": "markdown",
      "metadata": {
        "id": "37E05F70FtQL"
      },
      "source": [
        "<p style='font-size:1.75rem;line-height:1.5'>\n",
        "    <b style=\"color:blue\">STEP #4:</b> Invert the threshold mask\n",
        "    </p>"
      ]
    },
    {
      "cell_type": "code",
      "execution_count": null,
      "metadata": {
        "scrolled": true,
        "id": "UfhZ0z1dFtQL"
      },
      "outputs": [],
      "source": [
        "# TASK #4: Invert the threshold mask via cv2.bitwise_not. Save as 'mask'\n",
        "mask = cv2.bitwise_not(thresh)\n",
        "\n",
        "# Show image in popup window\n",
        "cv2_imshow(mask)"
      ]
    },
    {
      "cell_type": "markdown",
      "metadata": {
        "id": "1-y6qQlMFtQL"
      },
      "source": [
        "<p style='font-size:1.75rem;line-height:1.5'>\n",
        "    <b style=\"color:blue\">STEP #5:</b> Use <code>cv2.findContours</code> to find the list of contours.\n",
        "    </p>\n",
        "\n",
        "<p style='font-size:1.75rem;line-height:1.5'>\n",
        "    It has the following format:\n",
        "    </p>\n",
        "    \n",
        "```python\n",
        "contours = cv2.findContours(<mask>, 3, 2)[0]\n",
        "```"
      ]
    },
    {
      "cell_type": "code",
      "execution_count": null,
      "metadata": {
        "scrolled": true,
        "id": "UTVZzN_vFtQL"
      },
      "outputs": [],
      "source": [
        "# TASK #5: Find contours of 'mask' via cv2.findContours. Save as 'contours'.\n",
        "contours = cv2.findContours(mask, 3, 2)[0]\n",
        "\n",
        "# Print contours found note that for this image there should only be one\n",
        "# object so the length is 1 and then there are a series of points that\n",
        "# define its boundary\n",
        "print(len(contours))\n",
        "print(contours)"
      ]
    },
    {
      "cell_type": "markdown",
      "metadata": {
        "id": "ueeAFg9IFtQL"
      },
      "source": [
        "<p style='font-size:1.75rem;line-height:1.5'>\n",
        "    <b style=\"color:blue\">STEP #6:</b> Draw contours via <code>cv2.drawContours</code>.\n",
        "    </p>\n",
        "\n",
        "<p style='font-size:1.75rem;line-height:1.5'>\n",
        "    It has the following format:\n",
        "    </p>\n",
        "    \n",
        "```python\n",
        "cv2.drawContours(<image>, <contours>, <contour_index>, <color>, <thickness>)\n",
        "```\n",
        "\n",
        "<p style='font-size:1.75rem;line-height:1.5'>\n",
        "    <b>Notes:</b> \n",
        "    <br> Use <code>-1</code> for <code>&lt;contour_index&gt;</code> to draw all contours. \n",
        "    <br> To draw a specific contour, index into the list via <code>[contours[i]]</code> for <code>&lt;contours&gt;</code>, and set <code>0</code> for <code>&lt;contour_index&gt;</code>\n",
        "    </p>"
      ]
    },
    {
      "cell_type": "code",
      "execution_count": null,
      "metadata": {
        "scrolled": true,
        "id": "vYkKzmPIFtQM"
      },
      "outputs": [],
      "source": [
        "# TASK #6: Draw GREEN contours via cv2.drawContours. \n",
        "#          Use contour_index=-1 and thickness=3.\n",
        "cv2.drawContours(img, contours, -1, (0,255,0), 3)\n",
        "\n",
        "# Show image in popup window\n",
        "cv2_imshow(img)"
      ]
    },
    {
      "cell_type": "markdown",
      "source": [],
      "metadata": {
        "id": "ZV67-8gJLY6V"
      }
    },
    {
      "cell_type": "markdown",
      "metadata": {
        "id": "0r9nNc0NFtQM"
      },
      "source": [
        "# Contour Features and Properties\n",
        "<p style='font-size:1.75rem;line-height:1.5'>\n",
        "    Now that we know a bit more about contours and how to use them, lets extract some data from them! \n",
        "    </p>"
      ]
    },
    {
      "cell_type": "markdown",
      "source": [
        "### Contour Area\n",
        "<p style='font-size:1.75rem;line-height:1.5'>\n",
        "    <code>cv2.contourArea(&lt;single_contour&gt;)</code> calculates the total area that a contour encloses. \n",
        "</p> \n",
        "\n",
        "<p style='font-size:1.75rem;line-height:1.5'>\n",
        "    It is necessary to select a <b>single contour</b> when looking for the area, even when <code>contours</code> only has one contour stored in it.\n",
        "    </p>\n",
        "    \n",
        "<p style='font-size:1.75rem;line-height:1.5'>\n",
        "    <br> Lets find the contour area of <code>star.png</code>\n",
        "    </p>"
      ],
      "metadata": {
        "id": "ags_gvHsJYiB"
      }
    },
    {
      "cell_type": "code",
      "execution_count": null,
      "metadata": {
        "scrolled": true,
        "id": "uZcJjU7XFtQM"
      },
      "outputs": [],
      "source": [
        "# Get contours of star.png\n",
        "img = cv2.imread('star.png')\n",
        "img_gray = cv2.cvtColor(img, cv2.COLOR_BGR2GRAY)\n",
        "thresh = cv2.threshold(img_gray, 240, 255, 0)[1]\n",
        "inverted_thresh = cv2.bitwise_not(thresh)\n",
        "contours = cv2.findContours(inverted_thresh, 3, 2)[0]\n",
        "\n",
        "\n",
        "# TASK #1: Index into the first contour and save it to 'cnt'.\n",
        "cnt = contours[0]\n",
        "\n",
        "# TASK #2: Get the contour area of the first contour\n",
        "area = cv2.contourArea(cnt)\n",
        "\n",
        "# TASK #3: Print the area\n",
        "print(area)\n",
        "\n",
        "# Show the first contour \n",
        "cv2.drawContours(img, [cnt], 0, (255, 0, 0), 3)\n",
        "cv2_imshow(img)"
      ]
    },
    {
      "cell_type": "markdown",
      "metadata": {
        "id": "Ewr3eQ37FtQM"
      },
      "source": [
        "### Straight Bounding Rectangle\n",
        "\n",
        "<p style='font-size:1.75rem;line-height:1.5'>\n",
        "    We can use <code>cv2.boundingRect</code> to draw a rectangle. \n",
        "    <br> It has the following format: \n",
        "    </p>\n",
        "    \n",
        " ```python\n",
        "x, y, w, h = cv2.boundingRect(<single_contour>)\n",
        " ```\n",
        "\n",
        "<p style='font-size:1.75rem;line-height:1.5'>\n",
        "    <br> Lets find the straight bounding rectangle of <code>bolt.jpg</code>\n",
        "    </p>"
      ]
    },
    {
      "cell_type": "code",
      "execution_count": null,
      "metadata": {
        "scrolled": true,
        "id": "e100ulrBFtQM"
      },
      "outputs": [],
      "source": [
        "# Upload bolt.jpg\n",
        "uploaded = files.upload()"
      ]
    },
    {
      "cell_type": "code",
      "source": [
        "# Get contours of bolt.jpg\n",
        "img = cv2.imread(\"bolt.jpg\", cv2.IMREAD_COLOR)\n",
        "img_gray = cv2.cvtColor(img, cv2.COLOR_BGR2GRAY)\n",
        "thresh = cv2.threshold(img_gray, 240, 255, 0)[1]\n",
        "contours = cv2.findContours(thresh, 3, 2)[0]\n",
        "\n",
        "# TASK #1: Get bounding rectangle of the first contour\n",
        "x, y, w, h = cv2.boundingRect(contours[0])\n",
        "\n",
        "# TASK #2: Draw a GREEN bounding rectangle using cv2.rectangle\n",
        "img = cv2.rectangle(img, (x,y), (x+w,y+h), (0,255,0), 3)\n",
        "\n",
        "# Show bounding rectangle in popup window\n",
        "cv2_imshow(img)"
      ],
      "metadata": {
        "id": "e4ghTuJdJ3VA"
      },
      "execution_count": null,
      "outputs": []
    },
    {
      "cell_type": "markdown",
      "metadata": {
        "id": "qp2_qxIgFtQN"
      },
      "source": [
        "### Minimum Enclosing Rotated Box\n",
        "\n",
        "<p style='font-size:1.75rem;line-height:1.5'>\n",
        "    Another bounding rectangle is <code>cv2.minAreaRect</code>. This rectangle encloses the contour with the smallest area, and can be rotated.\n",
        "    </p>\n",
        "    \n",
        "<p style='font-size:1.75rem;line-height:1.5'>\n",
        "     The function has the following format:\n",
        "     </p>\n",
        "     \n",
        "```python\n",
        "rect = cv2.minAreaRect(<single_contour>)\n",
        "```\n",
        "\n",
        "<img src=\"https://docs.opencv.org/3.1.0/boundingrect.png\" width=\"150\" height=\"150\"> </img>\n",
        "\n",
        "<p style='font-size:1.75rem;line-height:1.5'>\n",
        "    <b style=\"color:red\">Exercise:</b> \n",
        "    <br> Find the minimum enclosing rectangle of <code>bolt.jpg</code>\n",
        "    </p>"
      ]
    },
    {
      "cell_type": "code",
      "execution_count": null,
      "metadata": {
        "scrolled": true,
        "id": "PtWZiyNvFtQN"
      },
      "outputs": [],
      "source": [
        "# Get contours of bolt.png\n",
        "img = cv2.imread('bolt.jpg')\n",
        "img_gray = cv2.cvtColor(img, cv2.COLOR_BGR2GRAY)\n",
        "thresh = cv2.threshold(img_gray, 240, 255, 0)[1]\n",
        "contours = cv2.findContours(thresh, 3, 2)[0]\n",
        "\n",
        "\n",
        "# TASK: Get min area bounding rectangle of the first contour. \n",
        "#       Save as 'rect'.\n",
        "rect = cv2.minAreaRect(contours[0])\n",
        "\n",
        "# Draw the rectangle\n",
        "box = np.int0(cv2.boxPoints(rect))\n",
        "res = cv2.drawContours(img, [box], 0, (0,0,255), 2)\n",
        "\n",
        "# Show min area bounded rectangle\n",
        "cv2_imshow(res)"
      ]
    },
    {
      "cell_type": "markdown",
      "metadata": {
        "id": "m17gEPTFFtQN"
      },
      "source": [
        "<p style='font-size:1.75rem;line-height:1.5'>\n",
        "    <b>Optional Note on <code>cv2.minAreaRect</code>:</b>\n",
        "    </p>\n",
        "<code>rect = cv2.minAreaRect(&lt;contour&gt;)</code> will output rectangle data so that <code>box_points = cv2.boxPoints(rect)</code> can calculate box points. The box points will be floating data types at first, so we want to use <code>np.int0(box_points)</code> to convert the datatype from floats to integers. Then, we can use <code>cv2.drawContours</code> to draw the minimum enclosed (rotated) box around the image."
      ]
    },
    {
      "cell_type": "markdown",
      "metadata": {
        "id": "eAP71A41FtQN"
      },
      "source": [
        "### Minimum Enclosing Circle\n",
        "\n",
        "<p style='font-size:1.75rem;line-height:1.5'>\n",
        "    <code>cv2.minEnclosingCircle</code> gives us the center and radius of the minimum enclosing circle of a contour.\n",
        "    </p>\n",
        "        \n",
        "<p style='font-size:1.75rem;line-height:1.5'>\n",
        "     The function has the following format:\n",
        "     </p>\n",
        "     \n",
        "```python\n",
        "(x,y), radius = cv2.minEnclosingCircle(<single_contour>)\n",
        "```\n",
        "\n",
        "<p style='font-size:1.75rem;line-height:1.5'>\n",
        "    <b style=\"color:red\">Exercise:</b> \n",
        "    <br> Find the minimum enclosing circle of <code>bolt.jpg</code>\n",
        "    </p>"
      ]
    },
    {
      "cell_type": "code",
      "execution_count": null,
      "metadata": {
        "scrolled": true,
        "id": "Jd4OhF2XFtQN"
      },
      "outputs": [],
      "source": [
        "# Get contours of bolt.png\n",
        "img = cv2.imread('bolt.jpg')\n",
        "img_gray = cv2.cvtColor(img, cv2.COLOR_BGR2GRAY)\n",
        "thresh = cv2.threshold(img_gray, 240, 255, 0)[1]\n",
        "contours = cv2.findContours(thresh, 3, 2)[0]\n",
        "\n",
        "# TASK #1: Get the minimum enclosing circle of the first contour\n",
        "(x,y), radius = cv2.minEnclosingCircle(contours[0])\n",
        "\n",
        "# Convert to values to int\n",
        "center = (int(x),int(y))\n",
        "radius = int(radius)\n",
        "\n",
        "# TASK #2: Draw a GREEN bounding circle using cv2.circle\n",
        "img = cv2.circle(img, center, radius, (0,255,0), 3)\n",
        "\n",
        "# Show image in popup\n",
        "cv2_imshow(img)"
      ]
    },
    {
      "cell_type": "markdown",
      "metadata": {
        "id": "cwJV44UtFtQN"
      },
      "source": [
        "\n",
        "---\n"
      ]
    },
    {
      "cell_type": "markdown",
      "metadata": {
        "id": "3HiFlOgPFtQN"
      },
      "source": [
        "# Challenge Draw it All -- On a Stop Sign!\n",
        "\n",
        "<p style='font-size:1.75rem;line-height:1.5'>\n",
        "    Let's put everything we've learned altogether now! Draw a straight bounded rectangle, a minimum area rectangle, and a minimum enclosing circle around an image of a stop sign that you find on the internet. Make sure to use different colors for the different contours! Be careful! You will likely find multiple contours! Make sure you find the right one! Hint: you will also likely need to mask on a color image vs. just thresholding! There are lots of ways to do that (e.g., cv2.inRange)! Google around!\n",
        "</p> "
      ]
    },
    {
      "cell_type": "code",
      "execution_count": null,
      "metadata": {
        "scrolled": true,
        "id": "8-yL97mcFtQM"
      },
      "outputs": [],
      "source": [
        "# TASK #1: Read the image 'TBD'. Save as 'img'\n",
        "\n",
        "\n",
        "# TASK #2: Convert the image into grayscale via cv2.cvtcolor\n",
        "\n",
        "\n",
        "# TASK #3: Threshold the image via cv2.threshold.\n",
        "#          You will likely need to play around with the threshold values!\n",
        "\n",
        "\n",
        "# TASK #4: Find the list of contours of 'thresh' via cv2.findContours\n",
        "\n",
        "\n",
        "# TASK #5: Use cv2.boundingRect to find x, y, w, h\n",
        "\n",
        "\n",
        "# TASK #6: Draw a BLUE straight rectangle \n",
        "\n",
        "\n",
        "# TASK #7: Use cv2.minAreaRect to find the minimum enclosing rectangle. \n",
        "#          Save as 'rect'\n",
        "\n",
        "\n",
        "# Draw minimum enclosing rectangle\n",
        "box = np.int0(cv2.boxPoints(rect))\n",
        "res = cv2.drawContours(img, [box], 0, (0,255,0), 2)\n",
        "\n",
        "# TASK #8: Use cv2.minEnclosingCircle to find radius and (x,y)\n",
        "\n",
        "\n",
        "# Convert values to int\n",
        "(x,y) = int(x), int(y)\n",
        "radius = int(radius)\n",
        "\n",
        "# TASK #9: Draw the RED circle \n",
        "\n",
        "\n",
        "# Show the image\n",
        "cv2_imshow(img)"
      ]
    },
    {
      "cell_type": "markdown",
      "metadata": {
        "id": "VOsuuEbvFtQN"
      },
      "source": [
        "\n",
        "---\n"
      ]
    }
  ],
  "metadata": {
    "kernelspec": {
      "display_name": "Python 3",
      "language": "python",
      "name": "python3"
    },
    "language_info": {
      "codemirror_mode": {
        "name": "ipython",
        "version": 3
      },
      "file_extension": ".py",
      "mimetype": "text/x-python",
      "name": "python",
      "nbconvert_exporter": "python",
      "pygments_lexer": "ipython3",
      "version": "3.8.1"
    },
    "colab": {
      "provenance": [],
      "toc_visible": true
    }
  },
  "nbformat": 4,
  "nbformat_minor": 0
}